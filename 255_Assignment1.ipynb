{
  "nbformat": 4,
  "nbformat_minor": 0,
  "metadata": {
    "colab": {
      "provenance": [],
      "authorship_tag": "ABX9TyPtkbbXzuCJ+uDen8oS2SJN",
      "include_colab_link": true
    },
    "kernelspec": {
      "name": "python3",
      "display_name": "Python 3"
    },
    "language_info": {
      "name": "python"
    }
  },
  "cells": [
    {
      "cell_type": "markdown",
      "metadata": {
        "id": "view-in-github",
        "colab_type": "text"
      },
      "source": [
        "<a href=\"https://colab.research.google.com/github/HarikaSatti06112001/Code-our-souls/blob/main/255_Assignment1.ipynb\" target=\"_parent\"><img src=\"https://colab.research.google.com/assets/colab-badge.svg\" alt=\"Open In Colab\"/></a>"
      ]
    },
    {
      "cell_type": "code",
      "execution_count": null,
      "metadata": {
        "colab": {
          "base_uri": "https://localhost:8080/"
        },
        "id": "hqEJjyXcjVqk",
        "outputId": "4ac16f0b-ee2f-42fb-f221-779f6731549e"
      },
      "outputs": [
        {
          "output_type": "stream",
          "name": "stdout",
          "text": [
            "hello world\n",
            "Harika\n",
            "5+2= 7\n",
            "5-2= 3\n",
            "5*2= 10\n",
            "5/2= 3\n",
            "5%2= 1\n",
            "5**2= 25\n",
            "5//2= 2\n",
            "/n/n/n/n/n\n",
            "I like new lines\n"
          ]
        }
      ],
      "source": [
        "import random\n",
        "import sys\n",
        "import os\n",
        "print(\"hello world\")\n",
        "name=\"Harika\"\n",
        "print(name)\n",
        "\n",
        "#numerical operations\n",
        "print(\"5+2=\", 5+2)\n",
        "print(\"5-2=\", 5-2)\n",
        "print(\"5*2=\", 5*2)\n",
        "print(\"5/2=\", 5-2)\n",
        "print(\"5%2=\", 5%2)\n",
        "print(\"5**2=\", 5**2)\n",
        "print(\"5//2=\", 5//2)\n",
        "\n",
        "quote= \"\\\"You can do it\"\n",
        "\n",
        "\n",
        "#multiple line qoutes\n",
        "multi_line_quote = ''' comments\n",
        "in different lines'''\n",
        "\n",
        "print('/n' * 5)\n",
        "\n",
        "print(\"I like \", end=\"\")\n",
        "print(\"new lines\")\n"
      ]
    },
    {
      "cell_type": "code",
      "source": [],
      "metadata": {
        "id": "6OHDqQQ1KIkH"
      },
      "execution_count": null,
      "outputs": []
    },
    {
      "cell_type": "code",
      "source": [],
      "metadata": {
        "id": "5_RqLrQ8KJwZ"
      },
      "execution_count": null,
      "outputs": []
    },
    {
      "cell_type": "code",
      "source": [
        "#array \n",
        "grocery_list = ['tofu', 'milk', 'Apples','Mangoes']\n",
        "print('First Item is', grocery_list[0])\n",
        "grocery_list[0]=\"Green Juice\"\n",
        "print('First Item is', grocery_list[0])\n",
        "print(grocery_list[1:4])\n",
        "other_events=['do assignments', 'build resume', 'have fun']\n",
        "\n",
        "#predefined functions to perform operations in array\n",
        "to_do_list=[other_events, grocery_list]\n",
        "print((to_do_list[1][1]))\n",
        "grocery_list.append('Potatoes')\n",
        "print(to_do_list)\n",
        "grocery_list.insert(1,\"curd\")\n",
        "grocery_list.remove(\"curd\")\n",
        "grocery_list.sort()\n",
        "grocery_list.reverse()\n",
        "del grocery_list[4]\n",
        "print(to_do_list)\n",
        "to_do_list2=other_events + grocery_list\n",
        "print(len(to_do_list2))\n",
        "print(max(to_do_list2))\n"
      ],
      "metadata": {
        "colab": {
          "base_uri": "https://localhost:8080/"
        },
        "id": "f1jkII4-79dY",
        "outputId": "c59f0b86-c385-4a46-caab-0da32e565a1d"
      },
      "execution_count": null,
      "outputs": [
        {
          "output_type": "stream",
          "name": "stdout",
          "text": [
            "First Item is tofu\n",
            "First Item is Green Juice\n",
            "['milk', 'Apples', 'Mangoes']\n",
            "milk\n",
            "[['do assignments', 'build resume', 'have fun'], ['Green Juice', 'milk', 'Apples', 'Mangoes', 'Potatoes']]\n",
            "[['do assignments', 'build resume', 'have fun'], ['milk', 'Potatoes', 'Mangoes', 'Green Juice']]\n",
            "7\n",
            "milk\n"
          ]
        }
      ]
    },
    {
      "cell_type": "code",
      "source": [
        "#length of tuple\n",
        "pi_tuple = (1,5,8,4,2,9)\n",
        "new_tuple=list(pi_tuple)\n",
        "new_list=tuple(new_tuple)\n",
        "len(pi_tuple)"
      ],
      "metadata": {
        "colab": {
          "base_uri": "https://localhost:8080/"
        },
        "id": "a5VsHah8Mocw",
        "outputId": "f9eb9574-fca7-4500-a893-07baf7ef0c05"
      },
      "execution_count": null,
      "outputs": [
        {
          "output_type": "execute_result",
          "data": {
            "text/plain": [
              "6"
            ]
          },
          "metadata": {},
          "execution_count": 153
        }
      ]
    },
    {
      "cell_type": "code",
      "source": [
        "#key values in python\n",
        "super_villains = {'harika':'satti', 'nithin':'reddy','priya':'yadav'}\n",
        "print(super_villains['nithin'])\n",
        "del super_villains['harika']\n",
        "super_villains['priya']='kalash'\n",
        "print(len(super_villains))\n",
        "print(super_villains.get(\" Radhika Agarwal\"))\n",
        "print(super_villains.keys())\n",
        "print(super_villains.values())"
      ],
      "metadata": {
        "colab": {
          "base_uri": "https://localhost:8080/"
        },
        "id": "7uXKeKETOEg3",
        "outputId": "65e93f95-c8ef-4d04-e44a-b09d8f5fb7da"
      },
      "execution_count": null,
      "outputs": [
        {
          "output_type": "stream",
          "name": "stdout",
          "text": [
            "reddy\n",
            "2\n",
            "None\n",
            "dict_keys(['nithin', 'priya'])\n",
            "dict_values(['reddy', 'kalash'])\n"
          ]
        }
      ]
    },
    {
      "cell_type": "code",
      "source": [
        "#is else if loop\n",
        "age = 21\n",
        "if age > 21 :\n",
        "   print('You are old enough to go to club')\n",
        "else:\n",
        "     print('You are not old enough to go to club')\n",
        "if age > 18:\n",
        "  print('You are old enough to drive a car')\n",
        "elif age >= 18:\n",
        "  print('You are not old enough to drive a car')\n",
        "if ((age>=1) and (age<=18)):\n",
        "  print(\"we will celebrate your birthday\")\n",
        "elif(age==21) or (age>=60):\n",
        "  print(\"we will celebrate your birthday\")\n",
        "elif not(age==30):\n",
        "  print(\"You don't get a birthday\")\n",
        "else:\n",
        "  print(\"You get a birthday party wohho\")"
      ],
      "metadata": {
        "colab": {
          "base_uri": "https://localhost:8080/"
        },
        "id": "hsIc9LSrOIlI",
        "outputId": "c541f5ca-73df-4d18-90db-3c717d4823fc"
      },
      "execution_count": null,
      "outputs": [
        {
          "output_type": "stream",
          "name": "stdout",
          "text": [
            "You are not old enough to go to club\n",
            "You are old enough to drive a car\n",
            "we will celebrate your birthday\n"
          ]
        }
      ]
    },
    {
      "cell_type": "code",
      "source": [
        "#for loop in python\n",
        "for x in range(0, 10):\n",
        "  print(x, ' ', end=\"\")\n",
        "print('\\n')\n",
        "grocery_list = ['Chocolates', 'Eggs', 'Biscuits']\n",
        "for y in grocery_list:\n",
        "  print(y)\n",
        "for x in [3,5,7,9]:\n",
        "  print(x)\n",
        "num_list = [[1,2,3],[10,20,30],[100,200,300]]\n",
        "\n",
        "\n",
        "#for loop in particular range\n",
        "for x in range(0,3):\n",
        "  for y in range(0,3):\n",
        "    print(num_list[x][y])"
      ],
      "metadata": {
        "colab": {
          "base_uri": "https://localhost:8080/"
        },
        "id": "LZfVhulWdGtg",
        "outputId": "43b0d468-d82f-48cb-b9ad-8a76b2e3187f"
      },
      "execution_count": null,
      "outputs": [
        {
          "output_type": "stream",
          "name": "stdout",
          "text": [
            "0  1  2  3  4  5  6  7  8  9  \n",
            "\n",
            "Chocolates\n",
            "Eggs\n",
            "Biscuits\n",
            "3\n",
            "5\n",
            "7\n",
            "9\n",
            "1\n",
            "2\n",
            "3\n",
            "10\n",
            "20\n",
            "30\n",
            "100\n",
            "200\n",
            "300\n"
          ]
        }
      ]
    },
    {
      "cell_type": "code",
      "source": [
        "#print random number\n",
        "random_num = random.randrange(0,100)\n",
        "\n",
        "while(random_num!=15):\n",
        "  print(random_num)\n",
        "  random_num = random.randrange(0,100)\n",
        "\n",
        "i=0;\n",
        "while(i<=20):\n",
        "  if(i%2==0):\n",
        "    print(i)\n",
        "  elif(i==9):\n",
        "    break\n",
        "  else:\n",
        "    i+=1\n",
        "    continue\n",
        "\n",
        "  i+=1"
      ],
      "metadata": {
        "colab": {
          "base_uri": "https://localhost:8080/"
        },
        "id": "2mdGccM7dGxo",
        "outputId": "d02c377c-a964-4859-f54b-0257be8fc53f"
      },
      "execution_count": null,
      "outputs": [
        {
          "output_type": "stream",
          "name": "stdout",
          "text": [
            "54\n",
            "93\n",
            "84\n",
            "35\n",
            "61\n",
            "31\n",
            "31\n",
            "16\n",
            "12\n",
            "20\n",
            "35\n",
            "48\n",
            "65\n",
            "7\n",
            "62\n",
            "39\n",
            "96\n",
            "28\n",
            "16\n",
            "41\n",
            "88\n",
            "0\n",
            "2\n",
            "4\n",
            "6\n",
            "8\n"
          ]
        }
      ]
    },
    {
      "cell_type": "code",
      "source": [
        "\n",
        "print('What is your name')\n",
        "name = sys.stdin.readline()\n",
        "print('Hey', name)\n"
      ],
      "metadata": {
        "colab": {
          "base_uri": "https://localhost:8080/"
        },
        "id": "Jilsdwqjids1",
        "outputId": "ed300c59-b338-4ff3-c183-5251a57dc14e"
      },
      "execution_count": null,
      "outputs": [
        {
          "output_type": "stream",
          "name": "stdout",
          "text": [
            "What is your name\n",
            "Hey \n"
          ]
        }
      ]
    },
    {
      "cell_type": "code",
      "source": [
        "#long string functions in range\n",
        "long_string = \"I will study daily from onwards \"\n",
        "print(long_string[0:4])\n",
        "print(long_string[-2:])\n",
        "print(long_string[:-2])\n",
        "print(long_string[:4]+ \"coding\")\n",
        "print(long_string[:2]+ \"always\")\n"
      ],
      "metadata": {
        "colab": {
          "base_uri": "https://localhost:8080/"
        },
        "id": "KVVOBRJkKNqJ",
        "outputId": "2e0b8f8d-a901-4e9d-dde8-fafb27b5f31f"
      },
      "execution_count": null,
      "outputs": [
        {
          "output_type": "stream",
          "name": "stdout",
          "text": [
            "I wi\n",
            "s \n",
            "I will study daily from onward\n",
            "I wicoding\n",
            "I always\n"
          ]
        }
      ]
    },
    {
      "cell_type": "code",
      "source": [
        "long_string = \"I will always be kind to everyone\"\n",
        "print(long_string.capitalize())\n",
        "print(long_string.find(\"Floor\"))\n",
        "print(long_string.isalpha())\n",
        "print(long_string.isalnum())\n",
        "print(len(long_string))\n",
        "print(long_string.replace(\"Floor\", \"Second\"))\n",
        "print(long_string.strip())\n",
        "quote_list = long_string.split(\" \")\n",
        "print(quote_list)\n",
        "\n"
      ],
      "metadata": {
        "colab": {
          "base_uri": "https://localhost:8080/"
        },
        "id": "0cbAPANy1EO6",
        "outputId": "5efcfc00-09d5-4be8-c014-511753978205"
      },
      "execution_count": null,
      "outputs": [
        {
          "output_type": "stream",
          "name": "stdout",
          "text": [
            "I will always be kind to everyone\n",
            "-1\n",
            "False\n",
            "False\n",
            "33\n",
            "I will always be kind to everyone\n",
            "I will always be kind to everyone\n",
            "['I', 'will', 'always', 'be', 'kind', 'to', 'everyone']\n"
          ]
        }
      ]
    },
    {
      "cell_type": "code",
      "source": [
        "#os operations\n",
        "test_file = open(\"test.txt\", \"wb\")\n",
        "print(test_file.mode)\n",
        "print(test_file.name)\n",
        "test_file.write(bytes(\"Write the file\\n\", 'UTF-8'))\n",
        "test_file.close()\n",
        "test_file = open(\"test.txt\", \"r+\")\n",
        "text_in_file = test_file.read()``\n",
        "print(text_in_file)\n",
        "os.remove(\"test.txt\")"
      ],
      "metadata": {
        "colab": {
          "base_uri": "https://localhost:8080/"
        },
        "id": "gNhGbdaW8LTM",
        "outputId": "dc73890a-d04d-4c6e-e8e0-43073a041bfb"
      },
      "execution_count": null,
      "outputs": [
        {
          "output_type": "stream",
          "name": "stdout",
          "text": [
            "wb\n",
            "test.txt\n",
            "Write the file\n",
            "\n"
          ]
        }
      ]
    },
    {
      "cell_type": "code",
      "source": [
        "#oops concepts\n",
        "class Animal:\n",
        "    __name = \" \"\n",
        "    __height = 0\n",
        "    __weight = 0\n",
        "    __sound = 0\n",
        "\n",
        "    def __init__(self, name, height, weight, sound):\n",
        "        self.__name = name\n",
        "        self.__height = height\n",
        "        self.__weight = weight\n",
        "        self.__sound = sound\n",
        "  \n",
        "    def set_name(self, name):\n",
        "\n",
        "      self.__name = name\n",
        "    def get_name(self):\n",
        "      return self.__name\n",
        "    def get_weight(self):\n",
        "      return str(self.__weight)\n",
        "    def get_sound(self):\n",
        "      return self.__sound\n",
        "    def get_height(self):\n",
        "      return str(self.__height)\n",
        "    def get_type(self):\n",
        "      print(\"Animal\")\n",
        "    \n",
        "    def toString(self):\n",
        "        return \"{}\" is {} cm tall and {} kilograms and say {}\".format(self.__name,\n",
        "                                                                   self.__height,\n",
        "                                                                   self.__weight,\n",
        "                                                                   self.__sound)\n",
        "Cat = Animal('Whiskers', 17, 10, 'meow')\n",
        "print(Cat.toString( ))\n",
        "\n",
        "class Dog(Animal):\n",
        "  __owner = \"\"\n",
        "\n",
        "  def __init(self, name, height, weight, sound, owner):\n",
        "      self.__owner = owner\n",
        "      super(Dog, self).__init(name, height, weight, sound)\n",
        "\n",
        "  def set_owner(self, owner):\n",
        "      self.__owner = owner\n",
        "      \n",
        "  def get_owner(self):\n",
        "      return self.__owner\n",
        "\n",
        "  def get_type(self):\n",
        "      print(\"Dog\")\n",
        "\n",
        "  def toString(self):\n",
        "      return \"{}\" is {} cm tall and {} kilograms and say {} His owner is\".format(self.__name,\n",
        "                                                                   self.__height,\n",
        "                                                                   self.__weight,\n",
        "                                                                   self.__sound)\n",
        "\n",
        "  def multiple_sounds(se;f, how_many=None):\n",
        "      if how_many is None:\n",
        "          print(self.get_sound())\n",
        "      else:\n",
        "          print(self.get_sound()* how_many)\n",
        "  \n",
        "spot = Dog(\"Spot\", 34, 54, \"Furr\", \"Harry\")\n",
        "\n",
        "print(spot.toString())\n",
        "\n",
        "class AnimalTesting:\n",
        "    def get_type(self, animal):\n",
        "        animal.get_type()\n",
        "\n",
        "test_animals = AnimalTesting()\n",
        "\n",
        "test_animals.get_type(cat)\n",
        "test_animals.get_type(spot)\n",
        "  \n",
        "spot.multiple_sounds(4)\n",
        "spot.multiple_sounds()\n",
        "\n",
        "\n",
        "\n",
        " \n",
        "\n",
        "  \n",
        "  \n",
        "\n",
        "  "
      ],
      "metadata": {
        "colab": {
          "base_uri": "https://localhost:8080/",
          "height": 151
        },
        "id": "GsgoWcP8K6JR",
        "outputId": "51c491e7-fd13-4e91-fdc8-04fb911bfa0f"
      },
      "execution_count": null,
      "outputs": [
        {
          "output_type": "error",
          "ename": "SyntaxError",
          "evalue": "ignored",
          "traceback": [
            "\u001b[0;36m  File \u001b[0;32m\"<ipython-input-162-52a31798bba1>\"\u001b[0;36m, line \u001b[0;32m28\u001b[0m\n\u001b[0;31m    return \"{}\" is {} cm tall and {} kilograms and say {}\".format(self.__name,\u001b[0m\n\u001b[0m                       ^\u001b[0m\n\u001b[0;31mSyntaxError\u001b[0m\u001b[0;31m:\u001b[0m invalid syntax\n"
          ]
        }
      ]
    },
    {
      "cell_type": "code",
      "source": [],
      "metadata": {
        "id": "W12NM2F55Enp"
      },
      "execution_count": null,
      "outputs": []
    }
  ]
}